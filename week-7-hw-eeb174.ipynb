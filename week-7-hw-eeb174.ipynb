{
 "cells": [
  {
   "cell_type": "code",
   "execution_count": 18,
   "metadata": {
    "collapsed": false
   },
   "outputs": [],
   "source": [
    "# this script will take my favorite 4 fishes API and extracts Weight, Importance and Length of each fish \n",
    "# and outputs the results into an markdown file.\n",
    "import urllib.request\n",
    "import json\n",
    "\n",
    "output=open(\"favoritefish.md\",\"w\") #opening output file\n",
    "\n",
    "api_url1 = \"https://fishbase.ropensci.org/species/?genus=Amphiprion&species=ocellaris\" #four API of my favortie fish\n",
    "api_url2 = \"https://fishbase.ropensci.org/species/?genus=Alosa&species=sapidissima\"  \n",
    "api_url3 = \"https://fishbase.ropensci.org/species/?genus=Ictalurus&species=punctatus\"   \n",
    "api_url4 = \"https://fishbase.ropensci.org/species/?genus=Cynoscion&species=xanthulus\"\n",
    "\n",
    "raw_json1 = urllib.request.urlopen(api_url1) #opening the url for 4 fish\n",
    "raw_json2 = urllib.request.urlopen(api_url2)\n",
    "raw_json3 = urllib.request.urlopen(api_url3)\n",
    "raw_json4 = urllib.request.urlopen(api_url4)\n",
    "\n",
    "decoded_json1 = raw_json1.read().decode('utf-8') #decoding and parsing imported info\n",
    "decoded_json2 = raw_json2.read().decode('utf-8')\n",
    "decoded_json3 = raw_json3.read().decode('utf-8')\n",
    "decoded_json4 = raw_json4.read().decode('utf-8')\n",
    "\n",
    "parsed_json1 = json.loads(decoded_json1) \n",
    "parsed_json2 = json.loads(decoded_json2)\n",
    "parsed_json3 = json.loads(decoded_json3)\n",
    "parsed_json4 = json.loads(decoded_json4)\n",
    "\n",
    "parsed_jasons=[parsed_json1,parsed_json2,parsed_json3,parsed_json4] #making list of dictionaries of my favorite four fish\n",
    "\n",
    "raw_json1.close()\n",
    "raw_json2.close()\n",
    "raw_json3.close()\n",
    "raw_json4.close()\n",
    "\n",
    "output.write(\"# My favorite fish:\"+\"\\n\") # the heading\n",
    "\n",
    "for parsed in parsed_jasons: #for loop iterate over dictionaries of my four favortie fish\n",
    "    \n",
    "    output.write(\"##\"+\" \"+parsed[\"data\"][0][\"Genus\"]+\" \"+parsed[\"data\"][0][\"Species\"]+\"\\n\") #outputing Genus and Species into markdown file \n",
    "    output.write(\"Weight = \"+str(parsed[\"data\"][0][\"Weight\"])+\"<br>\"+\"\\n\") #outputing Weight into markdown file\n",
    "    output.write(\"Importance = \"+parsed[\"data\"][0][\"Importance\"]+\"<br>\"+\"\\n\") #outputing Importance into markdown file\n",
    "    output.write(\"Length = \"+str(parsed[\"data\"][0][\"Length\"])+\"<br>\"+\"\\n\") #outputing Lenght into markdown file\n",
    "    \n",
    "\n",
    "\n",
    "output.close()\n"
   ]
  },
  {
   "cell_type": "markdown",
   "metadata": {
    "collapsed": false
   },
   "source": [
    "*** Output file looks as follows:***"
   ]
  },
  {
   "cell_type": "markdown",
   "metadata": {},
   "source": [
    "# My favorite fish:\n",
    "## Amphiprion ocellaris\n",
    "Weight = None<br>\n",
    "Importance = of no interest<br>\n",
    "Length = 11.0<br>\n",
    "## Alosa sapidissima\n",
    "Weight = 5500.0<br>\n",
    "Importance = commercial<br>\n",
    "Length = 76.0<br>\n",
    "## Ictalurus punctatus\n",
    "Weight = 26300.0<br>\n",
    "Importance = highly commercial<br>\n",
    "Length = 132.0<br>\n",
    "## Cynoscion xanthulus\n",
    "Weight = 24600.0<br>\n",
    "Importance = highly commercial<br>\n",
    "Length = 129.0<br>"
   ]
  },
  {
   "cell_type": "code",
   "execution_count": 19,
   "metadata": {
    "collapsed": false
   },
   "outputs": [],
   "source": [
    "# This script will take API of fish family Cyprinidae, it extarcts Importance, Weight and Length of each fish in this family \n",
    "# and outputs the results into an markdown file.\n",
    "\n",
    "import urllib.request\n",
    "import json\n",
    "\n",
    "\n",
    "api_url = \"https://fishbase.ropensci.org/species/?FamCode=122\" #openning the family url API\n",
    "output=open(\"Cyprinidae.md\",\"w\") #opening the output file\n",
    "\n",
    "\n",
    "raw_json = urllib.request.urlopen(api_url) #decoding and parsing imported info\n",
    "decoded_json = raw_json.read().decode('utf-8')\n",
    "parsed_json = json.loads(decoded_json)\n",
    "raw_json.close()\n",
    "\n",
    "\n",
    "\n",
    "for  data in parsed_json[\"data\"]: #for loop iterate over dictionaries of each species in this family\n",
    "\n",
    "   \n",
    "    output.write(\"##\"+\" \"+str(data[\"Genus\"])+\" \"+str(data[\"Species\"])+\"\\n\") #outputing Genus and Species into markdown file\n",
    "    output.write(\"Weight = \"+str(data[\"Weight\"])+\"<br>\"+\"\\n\") #outputing Weight into markdown file\n",
    "    output.write(\"Importance = \"+str(data[\"Importance\"])+\"<br>\"+\"\\n\") #outputing Importance into markdown file\n",
    "    output.write(\"Length = \"+str(data[\"Length\"])+\"<br>\"+\"\\n\") #outputing Lenght into markdown file"
   ]
  },
  {
   "cell_type": "markdown",
   "metadata": {},
   "source": [
    "*** Output file looks as follows:***"
   ]
  },
  {
   "cell_type": "markdown",
   "metadata": {},
   "source": [
    "## Aaptosyax grypus\n",
    "Weight = 30000.0<br>\n",
    "Importance = None<br>\n",
    "Length = 130.0<br>\n",
    "## Abbottina binhi\n",
    "Weight = None<br>\n",
    "Importance = None<br>\n",
    "Length = None<br>\n",
    "## Abbottina lalinensis\n",
    "Weight = None<br>\n",
    "Importance = None<br>\n",
    "Length = None<br>\n",
    "## Abbottina liaoningensis\n",
    "Weight = None<br>\n",
    "Importance = None<br>\n",
    "Length = 6.6<br>\n",
    "## Abbottina obtusirostris\n",
    "Weight = None<br>\n",
    "Importance = None<br>\n",
    "Length = 7.8<br>\n",
    "## Abbottina rivularis\n",
    "Weight = None<br>\n",
    "Importance = None<br>\n",
    "Length = 18.9<br>\n",
    "## Abramis brama\n",
    "Weight = 6010.0<br>\n",
    "Importance = highly commercial<br>\n",
    "Length = 82.0<br>\n",
    "## Acanthobrama centisquama\n",
    "Weight = None<br>\n",
    "Importance = None<br>\n",
    "Length = 20.2<br>\n",
    "## Acanthobrama hadiyahensis\n",
    "Weight = None<br>\n",
    "Importance = None<br>\n",
    "Length = None<br>\n",
    "## Acanthobrama hulensis\n",
    "Weight = None<br>\n",
    "Importance = None<br>\n",
    "Length = 23.0<br>\n"
   ]
  },
  {
   "cell_type": "code",
   "execution_count": null,
   "metadata": {
    "collapsed": false
   },
   "outputs": [],
   "source": [
    "\n",
    "\n",
    "\n"
   ]
  },
  {
   "cell_type": "code",
   "execution_count": null,
   "metadata": {
    "collapsed": true
   },
   "outputs": [],
   "source": []
  },
  {
   "cell_type": "code",
   "execution_count": null,
   "metadata": {
    "collapsed": false
   },
   "outputs": [],
   "source": []
  },
  {
   "cell_type": "code",
   "execution_count": null,
   "metadata": {
    "collapsed": true
   },
   "outputs": [],
   "source": []
  }
 ],
 "metadata": {
  "anaconda-cloud": {},
  "kernelspec": {
   "display_name": "Python [default]",
   "language": "python",
   "name": "python3"
  },
  "language_info": {
   "codemirror_mode": {
    "name": "ipython",
    "version": 3
   },
   "file_extension": ".py",
   "mimetype": "text/x-python",
   "name": "python",
   "nbconvert_exporter": "python",
   "pygments_lexer": "ipython3",
   "version": "3.5.2"
  }
 },
 "nbformat": 4,
 "nbformat_minor": 2
}
