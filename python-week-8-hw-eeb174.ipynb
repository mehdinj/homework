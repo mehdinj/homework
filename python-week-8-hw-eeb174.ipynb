{
 "cells": [
  {
   "cell_type": "markdown",
   "metadata": {},
   "source": [
    "# Family Canids:\n",
    "*** First I will remove the quotes and clean the document. Then, I will define the three functions.***"
   ]
  },
  {
   "cell_type": "code",
   "execution_count": 2,
   "metadata": {
    "collapsed": true
   },
   "outputs": [],
   "source": [
    "# This script will remove quotes from species names (and any other fields that re written to the output file).\n",
    "my_file= open(\"pbdb_data.csv\", encoding = \"ISO-8859-15\")\n",
    "my_line= my_file.readlines()[18:]\n",
    "output= open(\"cleaned-canids.csv\",\"w\")\n",
    "\n",
    "for line in my_line: #this for iterates over each lines and removes \" and ' quotes.\n",
    "    line=line.replace('\"','')\n",
    "    line=line.replace(\"'\",\"\")\n",
    "    output.write(line) #outputing the line without quotes\n",
    "output.close()\n",
    "    "
   ]
  },
  {
   "cell_type": "code",
   "execution_count": 37,
   "metadata": {
    "collapsed": false
   },
   "outputs": [],
   "source": [
    "\n",
    "\n",
    "def species_ages(filename= \"cleaned-canids.csv\"):\n",
    "# this function uses default dictionary to make a dictionary of species as keys and all ages recorded as values for that species\n",
    "# this function will also ignore any species that are charachterized by genus or family only.\n",
    "  \n",
    "    from collections import defaultdict\n",
    "\n",
    "    species_ranges= defaultdict(list) #defining default dictionary\n",
    "\n",
    "    file_object= open(filename, encoding = \"ISO-8859-15\")\n",
    "    \n",
    "    my_lines= file_object.readlines()\n",
    "\n",
    "\n",
    "\n",
    "    import csv\n",
    "    import sys\n",
    "    import re\n",
    "\n",
    "    for line in my_lines: #iterates over each line of file\n",
    "    \n",
    "        species_name=line.split(\",\")[5] #defining species name\n",
    "        genus_family=line.split(\",\")[6] #defining genus and family status\n",
    "        max_int= line.split(\",\")[10] #defining max age \n",
    "        min_int= line.split(\",\")[11] #defining min age\n",
    "    \n",
    "        mean_age = ((float(max_int))+(float(min_int))/2) #defining mean age\n",
    "    \n",
    "        if genus_family==\"species\":\n",
    "        \n",
    "            species_ranges[species_name].append(max_int)# appending species name and max age \n",
    "            species_ranges[species_name].append(min_int)# appending species name and min age\n",
    "        sorted(species_ranges.keys()) # sorting the species as per instructions \n",
    "        \n",
    "    return (species_ranges) #returning the dictionary\n",
    "\n",
    "#species_ages(\"cleaned-canids.csv\") #shown as comment here because dictionary is very large\n"
   ]
  },
  {
   "cell_type": "code",
   "execution_count": 38,
   "metadata": {
    "collapsed": false
   },
   "outputs": [],
   "source": [
    "\n",
    "species_ages_dict= species_ages()\n",
    "\n",
    "def species_min_max(species_ages_dict, filename = \"canids-ranges.csv\"):\n",
    "#this function will take a dictionary of species and ages, and an output file name, \n",
    "#and it will create an output csv file with genus, species, minimum age and maximum age (among ages) as columns \n",
    "    import csv\n",
    "    import sys\n",
    "    import re\n",
    "    \n",
    "    output= open(filename, \"w\") #openning the output file\n",
    "    \n",
    "    \n",
    "    for keys, values in species_ages_dict.items(): #iterating over items in dictionary of species and ages\n",
    "        \n",
    "        \n",
    "        min_age = min(values) #defining the min age\n",
    "        max_age = max(values) #defining the max age\n",
    "        \n",
    "        genus = keys.split(\" \")[0] #defining the genus as the first word of genus species name\n",
    "        \n",
    "        species = keys.split(\" \")[1] #defning species as the second word of genus species name\n",
    "        \n",
    "        output.write(genus+\",\"+species+\",\"+min_age+\",\"+max_age+\"\\n\") #outputing the genus, species, min age, max age in new file\n",
    "        \n",
    "    output.close()\n",
    "        \n",
    "    \n",
    "species_min_max(species_ages_dict, \"canids-ranges.csv\")"
   ]
  },
  {
   "cell_type": "code",
   "execution_count": 41,
   "metadata": {
    "collapsed": false
   },
   "outputs": [
    {
     "name": "stdout",
     "output_type": "stream",
     "text": [
      "Longest fossil range belongs to Cynarctoides acridens , with the fossil range =  [17.200000000000003]\n"
     ]
    }
   ],
   "source": [
    "\n",
    "species_ages_dict = species_ages(\"cleaned-canids.csv\") #calling the first function to make a dictionary of species and ages\n",
    "\n",
    "def longest_range(species_ages_dict):\n",
    "# this function will first create a dictionary of species and ranges. It then will find the species with the longest range among all the species.\n",
    "\n",
    "    from collections import defaultdict\n",
    "    \n",
    "    species_ranges = defaultdict(list) #defining the dictionary\n",
    "    \n",
    "    for keys,values in species_ages_dict.items(): #iterating over keys and values in dictionary items\n",
    "        \n",
    "        \n",
    "        \n",
    "        min_age = min(values) #defining min age\n",
    "        \n",
    "        max_age = max(values) #defining max age\n",
    "        \n",
    "        species_range= float(max_age) - float(min_age) #calculating range\n",
    "        \n",
    "        species_ranges[keys].append(species_range) # appending the species and range to the dictionary\n",
    "        \n",
    "    longest_range= max(species_ranges.values()) #calculating the longest range of all species\n",
    "        \n",
    "    for specie, ranges in species_ranges.items(): #iterating over the dictionary of species and ranges \n",
    "        \n",
    "        \n",
    "        if ranges == longest_range: # if the selected species has the longest range, then it will be printed\n",
    "            print(\"Longest fossil range belongs to\", specie, \", with the fossil range = \", longest_range)\n",
    "    \n",
    "longest_range(species_ages_dict)"
   ]
  },
  {
   "cell_type": "markdown",
   "metadata": {},
   "source": [
    "# Second Family : Cetacea\n",
    "*** Doing the same process for the second family, and makin the output file for R markdown.***"
   ]
  },
  {
   "cell_type": "code",
   "execution_count": 46,
   "metadata": {
    "collapsed": true
   },
   "outputs": [],
   "source": [
    "# This script will remove quotes from species names (and any other fields that re written to the output file).\n",
    "my_file= open(\"pbdb_data.csv\", encoding = \"ISO-8859-15\")\n",
    "my_line= my_file.readlines()[18:]\n",
    "output= open(\"cleaned-cetacea.csv\",\"w\")\n",
    "\n",
    "for line in my_line: #this for iterates over each lines and removes \" and ' quotes.\n",
    "    line=line.replace('\"','')\n",
    "    line=line.replace(\"'\",\"\")\n",
    "    output.write(line)\n",
    "output.close()"
   ]
  },
  {
   "cell_type": "code",
   "execution_count": 47,
   "metadata": {
    "collapsed": false
   },
   "outputs": [
    {
     "name": "stdout",
     "output_type": "stream",
     "text": [
      "Longest fossil range belongs to Eubalaena australis , with the fossil range =  [23.03]\n",
      "Longest fossil range belongs to Megaptera novaeangliae , with the fossil range =  [23.03]\n"
     ]
    }
   ],
   "source": [
    "#calling the first function to create a dictionary of species and min and max ages.\n",
    "species_ages_dict= species_ages(\"cleaned-cetacea.csv\")\n",
    "\n",
    "#calling the second function to create a file with genus, species min age and max age in it.\n",
    "species_min_max(species_ages_dict, \"cetacea-ranges.csv\")\n",
    "\n",
    "#calling the third function to print the species with the longest range in family cetacea\n",
    "longest_range(species_ages_dict)\n"
   ]
  },
  {
   "cell_type": "code",
   "execution_count": null,
   "metadata": {
    "collapsed": true
   },
   "outputs": [],
   "source": []
  }
 ],
 "metadata": {
  "anaconda-cloud": {},
  "kernelspec": {
   "display_name": "Python [default]",
   "language": "python",
   "name": "python3"
  },
  "language_info": {
   "codemirror_mode": {
    "name": "ipython",
    "version": 3
   },
   "file_extension": ".py",
   "mimetype": "text/x-python",
   "name": "python",
   "nbconvert_exporter": "python",
   "pygments_lexer": "ipython3",
   "version": "3.5.2"
  }
 },
 "nbformat": 4,
 "nbformat_minor": 2
}
