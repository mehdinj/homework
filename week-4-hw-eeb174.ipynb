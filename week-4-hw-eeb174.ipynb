{
 "cells": [
  {
   "cell_type": "code",
   "execution_count": 12,
   "metadata": {
    "collapsed": false
   },
   "outputs": [
    {
     "name": "stdout",
     "output_type": "stream",
     "text": [
      "Original DNA= ACTGATCGATTACGTATAGTATTTGCTATCATACATATATATCGATGCGTTCAT\n",
      "complementary DNA= TGACTAGCTAATGCATATCATAAACGATAGTATGTATATATAGCTACGCAAGTA\n"
     ]
    }
   ],
   "source": [
    "# Part 1.\n",
    "#Complementing DNA\n",
    "\n",
    "# this function will give you the complementary DNA sequence\n",
    "#If replace upper case letters, one round of replacement will makes a complete circle back to the original string\n",
    "#In order to get around this problem, I use upper and lower case letters to keep the letters that have been already modified\n",
    "#finnaly, I will capitalize the whole string again \n",
    "\n",
    "DNA = \"ACTGATCGATTACGTATAGTATTTGCTATCATACATATATATCGATGCGTTCAT\"\n",
    "print(\"Original DNA= \"+DNA)\n",
    "\n",
    "DNA=DNA.replace(\"A\",\"t\")\n",
    "DNA=DNA.replace(\"T\",\"a\")\n",
    "DNA=DNA.replace(\"C\",\"g\")\n",
    "DNA=DNA.replace(\"G\",\"c\")\n",
    "\n",
    "print(\"complementary DNA= \"+ DNA.upper())\n",
    "\n"
   ]
  },
  {
   "cell_type": "code",
   "execution_count": 16,
   "metadata": {
    "collapsed": false
   },
   "outputs": [
    {
     "name": "stdout",
     "output_type": "stream",
     "text": [
      "Frgament 1 lenght= 22\n",
      "Fragment 2 length= 33\n"
     ]
    }
   ],
   "source": [
    "#Restricton Fragment Lengths\n",
    "\n",
    "#This function will recignize \"G*AATTC\" pattern and will count the two fragment at the site of cleavage (*)\n",
    "#DNA.find will give the position of first G. But,since first G is included in the first fragment we add 1 to the position \n",
    "#of fragment 1. lenght of fragment two is calculated by subtracting length of fragment 1 from the total fragment.\n",
    "\n",
    "DNA=\"ACTGATCGATTACGTATAGTAGAATTCTATCATACATATATATCGATGCGTTCAT\"\n",
    "fragment1=DNA.find(\"GAATTC\")+1\n",
    "print (\"Frgament 1 lenght= \"+str(fragment1))\n",
    "print (\"Fragment 2 length= \"+str(len(DNA)-fragment1))\n"
   ]
  },
  {
   "cell_type": "code",
   "execution_count": 27,
   "metadata": {
    "collapsed": false
   },
   "outputs": [
    {
     "name": "stdout",
     "output_type": "stream",
     "text": [
      "coding region= ATCGATCGATCGATCGACTGACTAGTCATAGCTATGCATGTAGCTACTCGATCGATCGATCGATTCATCGATCGATATCGATGCATCGACTACTAT\n"
     ]
    }
   ],
   "source": [
    "#Splicing out introns, part one\n",
    "#this programm will print the coding regions which are from 0 to 63 and from 91 till the end of the string.\n",
    "\n",
    "DNA=\"ATCGATCGATCGATCGACTGACTAGTCATAGCTATGCATGTAGCTACTCGATCGATCGATCGATCGATCGATCGATCGATCGATCATGCTATCATCGATCGATATCGATGCATCGACTACTAT\"\n",
    "\n",
    "print(\"coding region= \" +DNA[:64]+DNA[91:])\n",
    "\n",
    "\n",
    "\n",
    "\n"
   ]
  },
  {
   "cell_type": "code",
   "execution_count": 28,
   "metadata": {
    "collapsed": false
   },
   "outputs": [
    {
     "name": "stdout",
     "output_type": "stream",
     "text": [
      "percentage of the coding region= 78.04878048780488\n"
     ]
    }
   ],
   "source": [
    "#Splicing  out introns, part two:\n",
    "# This programm will calculate the coding region, and takes a percentage of the coding region with respect to the length \n",
    "#of total DNA. \n",
    "\n",
    "from __future__ import division\n",
    "\n",
    "DNA=\"ATCGATCGATCGATCGACTGACTAGTCATAGCTATGCATGTAGCTACTCGATCGATCGATCGATCGATCGATCGATCGATCGATCATGCTATCATCGATCGATATCGATGCATCGACTACTAT\"\n",
    "coding_region= DNA[:64]+DNA[91:]\n",
    "\n",
    "percentage= (len(coding_region)/len(DNA))*100\n",
    "\n",
    "print(\"percentage of the coding region= \"+ str(percentage))\n"
   ]
  },
  {
   "cell_type": "code",
   "execution_count": 34,
   "metadata": {
    "collapsed": false
   },
   "outputs": [
    {
     "name": "stdout",
     "output_type": "stream",
     "text": [
      "DNA = ATCGATCGATCGATCGACTGACTAGTCATAGCTATGCATGTAGCTACTCGATCGATCGATCGATcgatcgatcgatcgatcgatcatgctaTCATCGATCGATATCGATGCATCGACTACTAT\n"
     ]
    }
   ],
   "source": [
    "#Splicing  out introns, part three:\n",
    "#This programm will lower case the non-coding region which is between 64 and 90th charachter of the DNA.\n",
    "#It will put together the coding region in capital letter and non-coding region in small letters.\n",
    "\n",
    "DNA=\"ATCGATCGATCGATCGACTGACTAGTCATAGCTATGCATGTAGCTACTCGATCGATCGATCGATCGATCGATCGATCGATCGATCATGCTATCATCGATCGATATCGATGCATCGACTACTAT\" \n",
    "New_DNA= DNA[:64]+DNA[64:91].lower()+DNA[91:]\n",
    "\n",
    "print(\"DNA = \"+ New_DNA)"
   ]
  },
  {
   "cell_type": "code",
   "execution_count": 44,
   "metadata": {
    "collapsed": false
   },
   "outputs": [],
   "source": [
    "# Part 2:\n",
    "#Splitting genomic DNA\n",
    "#This program will first read a DNA file and separates the coding and non coding into two string variables.\n",
    "#Then, I will create new files and writes coding and noncoding regions into their respective files.\n",
    "\n",
    "\n",
    "file_object=open(\"/home/eeb177-student/Desktop/Python for biologists/python_for_biologists_examples_and_exercises/Chapter 3/exercises/genomic_dna.txt\")\n",
    "DNA=file_object.read()\n",
    "coding= DNA[:64]+DNA[91:]\n",
    "noncoding=DNA[64:91]\n",
    "\n",
    "my_dna_coding=open(\"coding.txt\",\"w\")\n",
    "my_dna_coding.write(coding)\n",
    "my_dna_coding.close()\n",
    "\n",
    "my_dna_noncoding=open(\"noncoding.txt\",\"w\")\n",
    "my_dna_noncoding.write(noncoding)\n",
    "my_dna_coding.close()\n",
    "\n",
    "#output in coding.txt on my computer:\n",
    "#ATCGATCGATCGATCGACTGACTAGTCATAGCTATGCATGTAGCTACTCGATCGATCGATCGATTCATCGATCGATATCGATGCATCGACTACTAT\n",
    "\n",
    "#output in noncoding.txt on my computer:\n",
    "#CGATCGATCGATCGATCGATCATGCTA\n",
    "\n"
   ]
  },
  {
   "cell_type": "code",
   "execution_count": 42,
   "metadata": {
    "collapsed": false
   },
   "outputs": [],
   "source": [
    "#Writing a FASTA file\n",
    "#This programm creates a FASTA file and stores 3 fragments along with their names in the regular FASTA format.\n",
    "#It also capitalizes the string and makes sure all bases used are either \"A/T/C/G\"\n",
    "\n",
    "DNA = open(\"file.fasta\", \"w\")\n",
    "\n",
    "string1=\"ABC123\"\n",
    "ABC123=\"ATCGTACGATCGATCGATCGCTAGACGTATCG\"\n",
    "\n",
    "DEF456=\"actgatcgacgatcgatcgatcacgact\"\n",
    "string2=\"DEF456\"\n",
    "\n",
    "HIJ789=\"ACTGAC-ACTGT--ACTGTA----CATGTG\"\n",
    "string3=\"HIJ789\"\n",
    "\n",
    "DNA.write(\"<\"+string1+\"\\n\"+ABC123+\"\\n\"+\"<\"+string2+\"\\n\"+DEF456.upper()+\"\\n\"+\"<\"+string3+\"\\n\"+HIJ789.replace(\"-\",\"\"))\n",
    "DNA.close()\n",
    "\n",
    "#output in file.fasta on my computer:\n",
    "\n",
    "#<ABC123\n",
    "#ATCGTACGATCGATCGATCGCTAGACGTATCG\n",
    "#<DEF456\n",
    "#ACTGATCGACGATCGATCGATCACGACT\n",
    "#<HIJ789\n",
    "#ACTGACACTGTACTGTACATGTG"
   ]
  },
  {
   "cell_type": "code",
   "execution_count": null,
   "metadata": {
    "collapsed": true
   },
   "outputs": [],
   "source": [
    "#Part 3"
   ]
  }
 ],
 "metadata": {
  "anaconda-cloud": {},
  "kernelspec": {
   "display_name": "Python [default]",
   "language": "python",
   "name": "python3"
  },
  "language_info": {
   "codemirror_mode": {
    "name": "ipython",
    "version": 3
   },
   "file_extension": ".py",
   "mimetype": "text/x-python",
   "name": "python",
   "nbconvert_exporter": "python",
   "pygments_lexer": "ipython3",
   "version": "3.5.2"
  }
 },
 "nbformat": 4,
 "nbformat_minor": 2
}
