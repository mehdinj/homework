{
 "cells": [
  {
   "cell_type": "markdown",
   "metadata": {},
   "source": [
    "# Part 1: Code Academy Review\n",
    "\n",
    "***Python syntax***\n",
    "\n",
    "<img src=\"./screenshots/badge1.png\" width=\"800\" height=\"800\" alt=\"Alt_name\" title=\"Mytitle\" align=\"center\" />\n",
    "\n",
    "\n",
    "***String and console output***\n",
    "   \n",
    "<img src=\"./screenshots/badge2.png\" width=\"800\" height=\"800\" alt=\"Alt_name\" title=\"Mytitle\" align=\"center\" />\n",
    "    \n",
    "\n",
    "***Conditionals and Control flow***\n",
    "\n",
    "<img src=\"./screenshots/badge3.png\" width=\"800\" height=\"800\" alt=\"Alt_name\" title=\"Mytitle\" align=\"center\" />\n",
    "   \n",
    "\n",
    "***Functions***\n",
    "\n",
    "<img src=\"./screenshots/badge4.png\" width=\"800\" height=\"800\" alt=\"Alt_name\" title=\"Mytitle\" align=\"center\" />\n",
    "\n",
    "\n",
    "***Python Lists and Dictionaries***\n",
    "\n",
    "<img src=\"./screenshots/badge5.png\" width=\"800\" height=\"800\" alt=\"Alt_name\" title=\"Mytitle\" align=\"center\" />\n",
    "   \n",
    "\n",
    "***Lists and functions***\n",
    "\n",
    "<img src=\"./screenshots/badge6.png\" width=\"800\" height=\"800\" alt=\"Alt_name\" title=\"Mytitle\" align=\"center\" />\n",
    "\n",
    "\n",
    "***Loops***\n",
    "   \n",
    "<img src=\"./screenshots/badge7.png\" width=\"800\" height=\"800\" alt=\"Alt_name\" title=\"Mytitle\" align=\"center\" />\n",
    "\n",
    "\n",
    "***Practice makes perfect***\n",
    "\n",
    "<img src=\"./screenshots/badge8.png\" width=\"800\" height=\"800\" alt=\"Alt_name\" title=\"Mytitle\" align=\"center\" />\n"
   ]
  },
  {
   "cell_type": "markdown",
   "metadata": {},
   "source": [
    "# Part II Python for Biologists\n",
    "# psuedocode\n",
    "<br><br>\n",
    "&ensp;&ensp;&ensp;\n",
    "***1-first define the genecode dictionary***\n",
    "<br><br>\n",
    "&ensp;&ensp;&ensp;\n",
    "***2-define the function dna_translator():***\n",
    "<br><br>\n",
    "&ensp;&ensp;&ensp;\n",
    "***3-ireterate over every 3rd nucleotides in a loop --> range(0,last codon, 3):***\n",
    "<br><br>\n",
    "&ensp;&ensp;&ensp;\n",
    "***4-extract the trinucleotide from the current position inside the loop***\n",
    "<br><br>\n",
    "&ensp;&ensp;&ensp;\n",
    "***5-get the corresponding amino acid of the trinucleotide and save it in a variable(inside the loop)***\n",
    "<br><br>\n",
    "&ensp;&ensp;&ensp;\n",
    "***6-add the current amino acid variable to the protein chain(inside the loop)***\n",
    "<br><br>\n",
    "&ensp;&ensp;&ensp;\n",
    "***7-return the protein chain(outside of the loop)***"
   ]
  },
  {
   "cell_type": "code",
   "execution_count": 20,
   "metadata": {
    "collapsed": false
   },
   "outputs": [
    {
     "data": {
      "text/plain": [
       "'ICTX'"
      ]
     },
     "execution_count": 20,
     "metadata": {},
     "output_type": "execute_result"
    }
   ],
   "source": [
    "gencode = {\n",
    "    'ATA':'I', 'ATC':'I', 'ATT':'I', 'ATG':'M',\n",
    "    'ACA':'T', 'ACC':'T', 'ACG':'T', 'ACT':'T',\n",
    "    'AAC':'N', 'AAT':'N', 'AAA':'K', 'AAG':'K',\n",
    "    'AGC':'S', 'AGT':'S', 'AGA':'R', 'AGG':'R',\n",
    "    'CTA':'L', 'CTC':'L', 'CTG':'L', 'CTT':'L',\n",
    "    'CCA':'P', 'CCC':'P', 'CCG':'P', 'CCT':'P',\n",
    "    'CAC':'H', 'CAT':'H', 'CAA':'Q', 'CAG':'Q',\n",
    "    'CGA':'R', 'CGC':'R', 'CGG':'R', 'CGT':'R',\n",
    "    'GTA':'V', 'GTC':'V', 'GTG':'V', 'GTT':'V',\n",
    "    'GCA':'A', 'GCC':'A', 'GCG':'A', 'GCT':'A',\n",
    "    'GAC':'D', 'GAT':'D', 'GAA':'E', 'GAG':'E',\n",
    "    'GGA':'G', 'GGC':'G', 'GGG':'G', 'GGT':'G',\n",
    "    'TCA':'S', 'TCC':'S', 'TCG':'S', 'TCT':'S',\n",
    "    'TTC':'F', 'TTT':'F', 'TTA':'L', 'TTG':'L',\n",
    "    'TAC':'Y', 'TAT':'Y', 'TAA':'_', 'TAG':'_',\n",
    "    'TGC':'C', 'TGT':'C', 'TGA':'_', 'TGG':'W'} #define the gencode dictionary\n",
    "\n",
    "def dna_translator(dna):\n",
    "    #this function translates the DNA sequecne into AA chain or protein.\n",
    "    \n",
    "    lastcodon = len(dna) - 2 #this makes it so that there will be 2 more nucleotides after last nucleotide, \n",
    "    #so sequences that are not multiple of three can be counted as well\n",
    "    AA_chain = \"\"\n",
    "    \n",
    "    for startcodon in range(0,lastcodon,3): #loops over every 3rd nucleotide\n",
    "        \n",
    "        trinucleotide = dna[startcodon:startcodon+3] #extracts trinucleotide from the current position\n",
    "        \n",
    "        AA = gencode.get(trinucleotide, 'X') # translates the current trinucleotide into an amino acid\n",
    "        #this also makes sure that if the trinucleotide is unknown, it gets translated as \"X\" \n",
    "        \n",
    "        AA_chain = AA_chain + AA # adds the current amino acid to amino acid chain\n",
    "    \n",
    "    return AA_chain\n",
    "\n",
    "# simple dna sequence\n",
    "dna_translator(\"AATTGTCGTATG\")\n",
    "\n",
    "# sequence with dna lenght not divisible by 3\n",
    "dna_translator(\"ATTTTACGTTGCATGCCGTA\")\n",
    "\n",
    "# sequence containing unknown bases(F)\n",
    "dna_translator(\"ATCTGTACTGTF\")\n",
    "\n",
    "\n"
   ]
  },
  {
   "cell_type": "code",
   "execution_count": null,
   "metadata": {
    "collapsed": true
   },
   "outputs": [],
   "source": []
  },
  {
   "cell_type": "code",
   "execution_count": null,
   "metadata": {
    "collapsed": true
   },
   "outputs": [],
   "source": []
  }
 ],
 "metadata": {
  "anaconda-cloud": {},
  "kernelspec": {
   "display_name": "Python [default]",
   "language": "python",
   "name": "python3"
  },
  "language_info": {
   "codemirror_mode": {
    "name": "ipython",
    "version": 3
   },
   "file_extension": ".py",
   "mimetype": "text/x-python",
   "name": "python",
   "nbconvert_exporter": "python",
   "pygments_lexer": "ipython3",
   "version": "3.5.2"
  }
 },
 "nbformat": 4,
 "nbformat_minor": 2
}
