{
 "cells": [
  {
   "cell_type": "markdown",
   "metadata": {},
   "source": [
    "# Part 1: Code Academy Review\n",
    "\n",
    "***Python syntax***\n",
    "\n",
    "<img src=\"./screenshots/badge1.png\" width=\"800\" height=\"800\" alt=\"Alt_name\" title=\"Mytitle\" align=\"center\" />\n",
    "\n",
    "\n",
    "***String and console output***\n",
    "   \n",
    "<img src=\"./screenshots/badge2.png\" width=\"800\" height=\"800\" alt=\"Alt_name\" title=\"Mytitle\" align=\"center\" />\n",
    "    \n",
    "\n",
    "***Conditionals and Control flow***\n",
    "\n",
    "<img src=\"./screenshots/badge3.png\" width=\"800\" height=\"800\" alt=\"Alt_name\" title=\"Mytitle\" align=\"center\" />\n",
    "   \n",
    "\n",
    "***Functions***\n",
    "\n",
    "<img src=\"./screenshots/badge4.png\" width=\"800\" height=\"800\" alt=\"Alt_name\" title=\"Mytitle\" align=\"center\" />\n",
    "\n",
    "\n",
    "***Python Lists and Dictionaries***\n",
    "\n",
    "<img src=\"./screenshots/badge5.png\" width=\"800\" height=\"800\" alt=\"Alt_name\" title=\"Mytitle\" align=\"center\" />\n",
    "   \n",
    "\n",
    "***Lists and functions***\n",
    "\n",
    "<img src=\"./screenshots/badge6.png\" width=\"800\" height=\"800\" alt=\"Alt_name\" title=\"Mytitle\" align=\"center\" />\n",
    "\n",
    "\n",
    "***Loops***\n",
    "   \n",
    "<img src=\"./screenshots/badge7.png\" width=\"800\" height=\"800\" alt=\"Alt_name\" title=\"Mytitle\" align=\"center\" />\n",
    "\n",
    "\n",
    "***Practice makes perfect***\n",
    "\n",
    "<img src=\"./screenshots/badge8.png\" width=\"800\" height=\"800\" alt=\"Alt_name\" title=\"Mytitle\" align=\"center\" />\n"
   ]
  },
  {
   "cell_type": "markdown",
   "metadata": {},
   "source": [
    "# Part II Python for Biologists\n",
    "# psuedocode\n",
    "<br><br>\n",
    "&ensp;&ensp;&ensp;\n",
    "***1-first define the genecode dictionary***\n",
    "<br><br>\n",
    "&ensp;&ensp;&ensp;\n",
    "***2-define the function dna_translator():***\n",
    "<br><br>\n",
    "&ensp;&ensp;&ensp;\n",
    "***3-subtract two from the length of the sequence, set it to position of last codon, \n",
    "to insure that there will be two more bases after the position of last codon***\n",
    "<br><br>\n",
    "&ensp;&ensp;&ensp;\n",
    "***4-ireterate over every 3rd nucleotides in a loop --> range(0,position of last codon, 3):***\n",
    "<br><br>\n",
    "&ensp;&ensp;&ensp;\n",
    "***5-extract the trinucleotide from the current position inside the loop***\n",
    "<br><br>\n",
    "&ensp;&ensp;&ensp;\n",
    "***6-get the corresponding amino acid of the trinucleotide and save it in a variable(inside the loop)***\n",
    "<br><br>\n",
    "&ensp;&ensp;&ensp;\n",
    "***7-add the current amino acid variable to the protein chain(inside the loop)***\n",
    "<br><br>\n",
    "&ensp;&ensp;&ensp;\n",
    "***8-return the protein chain(outside of the loop)***"
   ]
  },
  {
   "cell_type": "code",
   "execution_count": 2,
   "metadata": {
    "collapsed": false,
    "scrolled": true
   },
   "outputs": [
    {
     "data": {
      "text/plain": [
       "'ICTX'"
      ]
     },
     "execution_count": 2,
     "metadata": {},
     "output_type": "execute_result"
    }
   ],
   "source": [
    "gencode = {\n",
    "    'ATA':'I', 'ATC':'I', 'ATT':'I', 'ATG':'M',\n",
    "    'ACA':'T', 'ACC':'T', 'ACG':'T', 'ACT':'T',\n",
    "    'AAC':'N', 'AAT':'N', 'AAA':'K', 'AAG':'K',\n",
    "    'AGC':'S', 'AGT':'S', 'AGA':'R', 'AGG':'R',\n",
    "    'CTA':'L', 'CTC':'L', 'CTG':'L', 'CTT':'L',\n",
    "    'CCA':'P', 'CCC':'P', 'CCG':'P', 'CCT':'P',\n",
    "    'CAC':'H', 'CAT':'H', 'CAA':'Q', 'CAG':'Q',\n",
    "    'CGA':'R', 'CGC':'R', 'CGG':'R', 'CGT':'R',\n",
    "    'GTA':'V', 'GTC':'V', 'GTG':'V', 'GTT':'V',\n",
    "    'GCA':'A', 'GCC':'A', 'GCG':'A', 'GCT':'A',\n",
    "    'GAC':'D', 'GAT':'D', 'GAA':'E', 'GAG':'E',\n",
    "    'GGA':'G', 'GGC':'G', 'GGG':'G', 'GGT':'G',\n",
    "    'TCA':'S', 'TCC':'S', 'TCG':'S', 'TCT':'S',\n",
    "    'TTC':'F', 'TTT':'F', 'TTA':'L', 'TTG':'L',\n",
    "    'TAC':'Y', 'TAT':'Y', 'TAA':'_', 'TAG':'_',\n",
    "    'TGC':'C', 'TGT':'C', 'TGA':'_', 'TGG':'W'} #define the gencode dictionary\n",
    "\n",
    "def dna_translator(dna):\n",
    "    #this function translates the DNA sequecne into AA chain or protein.\n",
    "    \n",
    "    lastcodon = len(dna) - 2 #this makes it so that there will be 2 more nucleotides after last nucleotide, \n",
    "    #so sequences that are not multiple of three can be counted as well\n",
    "    AA_chain = \"\"\n",
    "    \n",
    "    for startcodon in range(0,lastcodon,3): #loops over every 3rd nucleotide\n",
    "        \n",
    "        trinucleotide = dna[startcodon:startcodon+3] #extracts trinucleotide from the current position\n",
    "        \n",
    "        AA = gencode.get(trinucleotide, 'X') # translates the current trinucleotide into an amino acid\n",
    "        #this also makes sure that if the trinucleotide is unknown, it gets translated as \"X\" \n",
    "        \n",
    "        AA_chain = AA_chain + AA # adds the current amino acid to amino acid chain\n",
    "    \n",
    "    return AA_chain\n",
    "\n",
    "# simple dna sequence\n",
    "dna_translator(\"AATTGTCGTATG\")\n",
    "\n",
    "# sequence with dna lenght not divisible by 3\n",
    "dna_translator(\"ATTTTACGTTGCATGCCGTA\")\n",
    "\n",
    "# sequence containing unknown bases(F)\n",
    "dna_translator(\"ATCTGTACTGTF\")\n",
    "\n",
    "\n"
   ]
  },
  {
   "cell_type": "markdown",
   "metadata": {},
   "source": [
    "# Part III. Allesina and Wilmes\n",
    "\n",
    "***1.Write the simulation program described in section 4.3.2 starting on page 93.***"
   ]
  },
  {
   "cell_type": "code",
   "execution_count": 41,
   "metadata": {
    "collapsed": false
   },
   "outputs": [
    {
     "name": "stdout",
     "output_type": "stream",
     "text": [
      "An allele reached fixation at generation 98\n",
      "The genotype counts are\n",
      "{'aa': 100, 'AA': 0, 'aA': 0, 'Aa': 0}\n",
      "An allele reached fixation at generation 16\n",
      "The genotype counts are\n",
      "{'aa': 0, 'AA': 100, 'aA': 0, 'Aa': 0}\n"
     ]
    }
   ],
   "source": [
    "#Please note that the program described was given in the text!\n",
    "\n",
    "import scipy # for random numbers\n",
    "\n",
    "def build_population(N, p):\n",
    "\n",
    "    \"\"\"The population consists of N individuals.\n",
    "    Each individual has two chromosomes, containing\n",
    "    allele \"A\" or \"a\", with probability p and 1-p,\n",
    "    respectively.The population is a list of tuples.\n",
    "    \"\"\"\n",
    "    population = []\n",
    "    for i in range(N):\n",
    "        allele1 = \"A\"\n",
    "        if scipy.random.rand() > p:\n",
    "            allele1 = \"a\"\n",
    "        allele2 = \"A\"\n",
    "        if scipy.random.rand() > p:\n",
    "            allele2 = \"a\"\n",
    "        population.append((allele1, allele2))\n",
    "    return population\n",
    "\n",
    "\n",
    "\n",
    "def compute_frequencies(population):\n",
    "    \"\"\" Count the genotypes.\n",
    "    Returns a dictionary with counts for each genotype.\n",
    "    \"\"\"\n",
    "    AA = population.count(('A', 'A'))\n",
    "    Aa = population.count(('A', 'a'))\n",
    "    aA = population.count(('a', 'A'))\n",
    "    aa = population.count(('a', 'a'))\n",
    "    return({'AA': AA,\n",
    "            'aa': aa,\n",
    "            'Aa': Aa,\n",
    "            'aA': aA})\n",
    "\n",
    "\n",
    "def reproduce_population(population):\n",
    "    \"\"\" Create a new generation through sexual reproduction\n",
    "    For each of N new offspring:\n",
    "    - Choose the parents at random\n",
    "    - The offspring receives a chromosomes from each of\n",
    "    the parents\n",
    "    \"\"\"\n",
    "    new_generation = []\n",
    "    N = len(population)\n",
    "    for i in range(N):\n",
    "        dad = scipy.random.randint(N) # random integer between 0 and N-1\n",
    "        mom = scipy.random.randint(N)\n",
    "        chr_mom = scipy.random.randint(2) # which chromosome comes from mom\n",
    "        offspring = (population[mom][chr_mom], population[dad][1 - chr_mom])\n",
    "        new_generation.append(offspring)\n",
    "    return(new_generation)\n",
    "\n",
    "\n",
    "\n",
    "def simulate_drift(N, p):\n",
    "    # initialize the population\n",
    "    my_pop = build_population(N, p)\n",
    "    fixation = False\n",
    "    num_generations = 0\n",
    "    while fixation == False:\n",
    "    # compute genotype counts\n",
    "        genotype_counts = compute_frequencies(my_pop)\n",
    "        # if one allele went to fixation, end the simulation\n",
    "        if genotype_counts['AA'] == N or genotype_counts['aa'] == N:\n",
    "            print('An allele reached fixation at generation',\n",
    "            num_generations)\n",
    "            print('The genotype counts are')\n",
    "            print(genotype_counts)\n",
    "            fixation == True\n",
    "            break\n",
    "        # if not, reproduce\n",
    "        my_pop = reproduce_population(my_pop)\n",
    "        num_generations = num_generations + 1\n",
    "\n",
    "        \n",
    "simulate_drift(100, 0.5)\n",
    "simulate_drift(100, 0.9)"
   ]
  },
  {
   "cell_type": "markdown",
   "metadata": {},
   "source": [
    "# Part III. Allesina and Wilmes\n",
    "*** 2.Do part 1 of question 4.9.1 using this data set***\n",
    "\n",
    "You find the data in python/data/Jiang2013_data.csv . Write a\n",
    "function that takes as input the desired Taxon , and returns the mean\n",
    "value of r ."
   ]
  },
  {
   "cell_type": "code",
   "execution_count": 97,
   "metadata": {
    "collapsed": false
   },
   "outputs": [
    {
     "data": {
      "text/plain": [
       "0.49113529650000004"
      ]
     },
     "execution_count": 97,
     "metadata": {},
     "output_type": "execute_result"
    }
   ],
   "source": [
    "\n",
    "import csv #importing csv module\n",
    "\n",
    "\n",
    "file_object= open('Data/Jiang2013_data.csv')#openning  the csv file\n",
    "\n",
    "reader = csv.DictReader(file_object, delimiter = '\\t')#reading the csv file with tab delimiter. \n",
    "#alternatively, we can change the tab delimiter to comma by command: \n",
    "#tr \"\\t\" \",\" Jiang2013_data.csv > formatted.jiang2013_data.csv\n",
    "\n",
    "all_taxa = [] #defining a list for all taxa\n",
    "\n",
    "rvalues = [] #defining a list for all r values\n",
    "\n",
    "\n",
    "\n",
    "for line in reader: #to ireterate over all taxa and record the r values in lists\n",
    "    \n",
    "     all_taxa.append(line['Taxon'])\n",
    "     \n",
    "     rvalues.append(float(line['r']))\n",
    "\n",
    "\n",
    "    \n",
    "    \n",
    "def r_value(taxa_names, r_values, taxon = 'Chelicerate'):\n",
    "  #this function receives a list of taxa names, a list of corresponding r values and a specific taxon to find the mean r value\n",
    "   \n",
    "    length = len(taxa_names) #calculating the number of taxa for, for loop\n",
    "    r_average = 0.0 #defining and setting the r average value to zero as a float\n",
    "    sample_qty = 0 #defining and resetting the number of samples added together\n",
    "    \n",
    "    for counter in range(0,length): # to iterate over all taxa in taxa_names\n",
    "        \n",
    "        if taxa_names[counter] == taxon: # to count only the taxa that is targetted\n",
    "            \n",
    "            r_average = r_average + r_values[counter] # adding r value to r value repo\n",
    "            \n",
    "            sample_qty = sample_qty + 1 # adding to the number of samples added together\n",
    "    \n",
    "    return r_average / sample_qty #calculating the mean r value for all samples\n",
    "\n",
    "r_value(all_taxa, rvalues, taxon = 'Chelicerate')\n",
    "\n"
   ]
  },
  {
   "cell_type": "markdown",
   "metadata": {},
   "source": [
    "***If we want the r values for all taxa shown:***"
   ]
  },
  {
   "cell_type": "code",
   "execution_count": 98,
   "metadata": {
    "collapsed": false
   },
   "outputs": [
    {
     "name": "stdout",
     "output_type": "stream",
     "text": [
      "Crustacean 0.40302827731946345\n",
      "Insect 0.19664531553867934\n",
      "Mammal 0.009\n",
      "Protist 0.61402\n",
      "Annelids 0.2\n",
      "Bird 0.13175671104423078\n",
      "Fish 0.39719005173783783\n",
      "Chelicerate 0.49113529650000004\n",
      "Reptile 0.11750000000000002\n",
      "Gastropod 0.40099999999999997\n",
      "Amphibian 0.18552824175524468\n"
     ]
    }
   ],
   "source": [
    "for i in (set(all_taxa)): # to iterate over uniqe taxa in all_taxa\n",
    "    print(i, r_value(all_taxa, rvalues, taxon = i))"
   ]
  },
  {
   "cell_type": "markdown",
   "metadata": {},
   "source": [
    "***3.Bonus: do part 2.***\n",
    "<br>\n",
    "***You should see that fish have a positive value of r , but that this is also true\n",
    "for other taxa. Is the mean value of r especially high for fish? To test this,\n",
    "compute a p-value by repeatedly sampling 37 values of r (37 experiments\n",
    "on fish are reported in the database) at random, and calculating the prob-\n",
    "ability of observing a higher mean value of r . To get an accurate estimate\n",
    "of the p-value, use 50,000 randomizations.***"
   ]
  },
  {
   "cell_type": "code",
   "execution_count": 99,
   "metadata": {
    "collapsed": false
   },
   "outputs": [
    {
     "data": {
      "text/plain": [
       "['Fish', 0.39719, 0.0033]"
      ]
     },
     "execution_count": 99,
     "metadata": {},
     "output_type": "execute_result"
    }
   ],
   "source": [
    "import scipy # module for randomizing the taxon names\n",
    "\n",
    "def p_value(taxa_names, rvalues, taxon , simulations = 50000): #input has list of taxa names, r values, specific taxon for which we are doing the simulation and number of simulations done to calculate p value\n",
    "    \n",
    "   \n",
    "    # observed r value is calculated by r_value function defined above\n",
    "    observed_r_value = r_value(taxa_names, rvalues, taxon) \n",
    "    \n",
    "    \n",
    "\n",
    "    \n",
    "    randomized_taxa = taxa_names[:] #creating a copy of taxa_names for later randomization\n",
    "    \n",
    "    value = 0.0\n",
    "    \n",
    "    for i in range(simulations):#iterating over the number of simulations chosen\n",
    "        \n",
    "        \n",
    "        scipy.random.shuffle(randomized_taxa) #randomizing the taxon names\n",
    "        \n",
    "        temp_r_value = r_value(randomized_taxa, rvalues, taxon) #temporary r value defined as\n",
    "        \n",
    "        if temp_r_value >= observed_r_value:# only add p value if that round of simulation r value is greater than observed r value\n",
    "            \n",
    "            value = value + 1.0 #adding 1 to number of simulations meeting requirements\n",
    "    \n",
    "    pvalue = value / simulations #Ture p value by dividing number of simulation met the requirment divided by number of simulations\n",
    "    \n",
    "    return [taxon, round(observed_r_value, 5), round(pvalue, 5)] #returnin taxon name, observed r value and pvalue\n",
    "\n",
    "p_value(all_taxa, rvalues, 'Fish', 50000) \n"
   ]
  },
  {
   "cell_type": "markdown",
   "metadata": {},
   "source": [
    "***4.Bonus bonus: do part 3.***\n",
    "<br>\n",
    "***Repeat the procedure for all taxa.***"
   ]
  },
  {
   "cell_type": "code",
   "execution_count": 100,
   "metadata": {
    "collapsed": false,
    "scrolled": true
   },
   "outputs": [
    {
     "name": "stdout",
     "output_type": "stream",
     "text": [
      "['Crustacean', 0.40303, 0.0]\n",
      "['Insect', 0.19665, 0.99838]\n",
      "['Mammal', 0.009, 0.8449]\n",
      "['Protist', 0.61402, 0.00318]\n",
      "['Annelids', 0.2, 0.59596]\n",
      "['Bird', 0.13176, 0.9999]\n",
      "['Fish', 0.39719, 0.00276]\n",
      "['Chelicerate', 0.49114, 0.01122]\n",
      "['Reptile', 0.1175, 0.93162]\n",
      "['Gastropod', 0.401, 0.0761]\n",
      "['Amphibian', 0.18553, 0.99998]\n"
     ]
    }
   ],
   "source": [
    "for i in (set(all_taxa)):# to ireterate over all uniq taxa and apply the function to all\n",
    "    print(p_value(all_taxa, rvalues, i, 50000))"
   ]
  },
  {
   "cell_type": "code",
   "execution_count": null,
   "metadata": {
    "collapsed": true
   },
   "outputs": [],
   "source": []
  }
 ],
 "metadata": {
  "anaconda-cloud": {},
  "kernelspec": {
   "display_name": "Python [default]",
   "language": "python",
   "name": "python3"
  },
  "language_info": {
   "codemirror_mode": {
    "name": "ipython",
    "version": 3
   },
   "file_extension": ".py",
   "mimetype": "text/x-python",
   "name": "python",
   "nbconvert_exporter": "python",
   "pygments_lexer": "ipython3",
   "version": "3.5.2"
  }
 },
 "nbformat": 4,
 "nbformat_minor": 2
}
