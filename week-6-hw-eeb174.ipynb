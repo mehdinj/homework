{
 "cells": [
  {
   "cell_type": "markdown",
   "metadata": {},
   "source": [
    "# Part 1: Code Academy Review\n",
    "\n",
    "***Python syntax***\n",
    "\n",
    "![badge1](/home/eeb177-student/Desktop/eeb-177/Screenshots/badge1.png)\n",
    "\n",
    "***String and console output***\n",
    "   \n",
    "![badge2](/home/eeb177-student/Desktop/eeb-177/Screenshots/badge2.png)\n",
    "    \n",
    "***Conditionals and Control flow***\n",
    "\n",
    "![badge3](/home/eeb177-student/Desktop/eeb-177/Screenshots/badge3.png)\n",
    "   \n",
    "***Functions***\n",
    "\n",
    "![badge4](/home/eeb177-student/Desktop/eeb-177/Screenshots/badge4.png)\n",
    "\n",
    "***Python Lists and Dictionaries***\n",
    "\n",
    "![badge5](/home/eeb177-student/Desktop/eeb-177/Screenshots/badge5.png)\n",
    "   \n",
    "***Lists and functions***\n",
    "\n",
    " ![badge6](/home/eeb177-student/Desktop/eeb-177/Screenshots/badge6.png)\n",
    "\n",
    "***Loops***\n",
    "   \n",
    "![badge7](/home/eeb177-student/Desktop/eeb-177/Screenshots/badge7.png)\n",
    "\n",
    "***Practice makes perfect***\n",
    "\n",
    "![badge8](/home/eeb177-student/Desktop/eeb-177/Screenshots/badge8.png)\n"
   ]
  },
  {
   "cell_type": "markdown",
   "metadata": {},
   "source": [
    "<img src= https://github.com/mehdinj/homework/screenshots/badge1.png  >\n",
    " "
   ]
  },
  {
   "cell_type": "code",
   "execution_count": null,
   "metadata": {
    "collapsed": true
   },
   "outputs": [],
   "source": []
  }
 ],
 "metadata": {
  "anaconda-cloud": {},
  "kernelspec": {
   "display_name": "Python [default]",
   "language": "python",
   "name": "python3"
  },
  "language_info": {
   "codemirror_mode": {
    "name": "ipython",
    "version": 3
   },
   "file_extension": ".py",
   "mimetype": "text/x-python",
   "name": "python",
   "nbconvert_exporter": "python",
   "pygments_lexer": "ipython3",
   "version": "3.5.2"
  }
 },
 "nbformat": 4,
 "nbformat_minor": 2
}
