{
 "cells": [
  {
   "cell_type": "markdown",
   "metadata": {},
   "source": [
    "# Part 1: Code Academy Review\n",
    "\n",
    "***Python syntax***\n",
    "\n",
    "<img src=\"./screenshots/badge1.png\" width=\"800\" height=\"800\" alt=\"Alt_name\" title=\"Mytitle\" align=\"center\" />\n",
    "\n",
    "\n",
    "***String and console output***\n",
    "   \n",
    "<img src=\"./screenshots/badge2.png\" width=\"800\" height=\"800\" alt=\"Alt_name\" title=\"Mytitle\" align=\"center\" />\n",
    "    \n",
    "\n",
    "***Conditionals and Control flow***\n",
    "\n",
    "<img src=\"./screenshots/badge3.png\" width=\"800\" height=\"800\" alt=\"Alt_name\" title=\"Mytitle\" align=\"center\" />\n",
    "   \n",
    "\n",
    "***Functions***\n",
    "\n",
    "<img src=\"./screenshots/badge4.png\" width=\"800\" height=\"800\" alt=\"Alt_name\" title=\"Mytitle\" align=\"center\" />\n",
    "\n",
    "\n",
    "***Python Lists and Dictionaries***\n",
    "\n",
    "<img src=\"./screenshots/badge5.png\" width=\"800\" height=\"800\" alt=\"Alt_name\" title=\"Mytitle\" align=\"center\" />\n",
    "   \n",
    "\n",
    "***Lists and functions***\n",
    "\n",
    "<img src=\"./screenshots/badge6.png\" width=\"800\" height=\"800\" alt=\"Alt_name\" title=\"Mytitle\" align=\"center\" />\n",
    "\n",
    "\n",
    "***Loops***\n",
    "   \n",
    "<img src=\"./screenshots/badge7.png\" width=\"800\" height=\"800\" alt=\"Alt_name\" title=\"Mytitle\" align=\"center\" />\n",
    "\n",
    "\n",
    "***Practice makes perfect***\n",
    "\n",
    "<img src=\"./screenshots/badge8.png\" width=\"800\" height=\"800\" alt=\"Alt_name\" title=\"Mytitle\" align=\"center\" />\n"
   ]
  },
  {
   "cell_type": "markdown",
   "metadata": {},
   "source": []
  },
  {
   "cell_type": "markdown",
   "metadata": {
    "collapsed": true
   },
   "source": []
  },
  {
   "cell_type": "code",
   "execution_count": null,
   "metadata": {
    "collapsed": true
   },
   "outputs": [],
   "source": []
  }
 ],
 "metadata": {
  "anaconda-cloud": {},
  "kernelspec": {
   "display_name": "Python [default]",
   "language": "python",
   "name": "python3"
  },
  "language_info": {
   "codemirror_mode": {
    "name": "ipython",
    "version": 3
   },
   "file_extension": ".py",
   "mimetype": "text/x-python",
   "name": "python",
   "nbconvert_exporter": "python",
   "pygments_lexer": "ipython3",
   "version": "3.5.2"
  }
 },
 "nbformat": 4,
 "nbformat_minor": 2
}
