{
 "cells": [
  {
   "cell_type": "markdown",
   "metadata": {},
   "source": [
    "# Part 1: In Class Challenge Continue, the shell\n",
    "\n",
    "** I used wget to download the file: **\n",
    "<br>\n",
    "&ensp;&ensp;\n",
    "wget http://www.nature.com/nature/journal/vaop/ncurrent/source_data/nature21074-f1.csv\n",
    "\n",
    "\n",
    "** In order to format the nature file to text file to be able to work in shell**\n",
    "<br>\n",
    "&ensp;&ensp;\n",
    "cat nature21074-f1.csv | tr \"\\r\" \"\\n\" > formatted.nature.csv\n",
    "<br><br><br>\n",
    "\n",
    "\n",
    "\n",
    "***1-How many families are in this file?***\n",
    "\n",
    "&ensp;&ensp;\n",
    "**to extarct the families and count number of uniqe families**\n",
    "\n",
    "&ensp;&ensp;&ensp;\n",
    "tail -n +3 formatted.nature.csv| cut -d \",\" -f 3| sort |uniq| wc -l\n",
    "\n",
    "&ensp;&ensp;&ensp;\n",
    "Answer: 195 uniq families\n",
    "\n",
    "<br>\n",
    "\n",
    "***2-Which family has the most species represented?***\n",
    "\n",
    "&ensp;&ensp;\n",
    "**to find the family with the most number of species represented**\n",
    "\n",
    "&ensp;&ensp;&ensp;\n",
    "tail -n +3 formatted.nature.csv| cut -d \",\" -f 3| sort |uniq -c | sort -n\n",
    "\n",
    "&ensp;&ensp;&ensp;\n",
    "Answer:  102 Trochilidae are the most represented family.\n",
    "\n",
    "<br>\n",
    "***3-How many families have only a single species in them?***\n",
    "<br>\n",
    "\n",
    "&ensp;&ensp;\n",
    "** to find families that have one species reprensented** \n",
    "\n",
    "&ensp;&ensp;&ensp;\n",
    "tail -n +3 formatted.nature.csv| cut -d \",\" -f 3| sort |uniq -c | sort -n | grep \"1\" -wn |wc -l\n",
    "\n",
    "&ensp;&ensp;&ensp;\n",
    "Answer: 61\n",
    "\n",
    "<br>\n",
    "\n",
    "\n",
    "***4-How many families are present in the eBird data?***\n",
    "\n",
    "&ensp;&ensp;\n",
    "**to find uniqe families present in the data**\n",
    "\n",
    "&ensp;&ensp;&ensp;\n",
    "\n"
   ]
  },
  {
   "cell_type": "code",
   "execution_count": null,
   "metadata": {
    "collapsed": true
   },
   "outputs": [],
   "source": []
  }
 ],
 "metadata": {
  "anaconda-cloud": {},
  "kernelspec": {
   "display_name": "Python [default]",
   "language": "python",
   "name": "python3"
  },
  "language_info": {
   "codemirror_mode": {
    "name": "ipython",
    "version": 3
   },
   "file_extension": ".py",
   "mimetype": "text/x-python",
   "name": "python",
   "nbconvert_exporter": "python",
   "pygments_lexer": "ipython3",
   "version": "3.5.2"
  }
 },
 "nbformat": 4,
 "nbformat_minor": 2
}
